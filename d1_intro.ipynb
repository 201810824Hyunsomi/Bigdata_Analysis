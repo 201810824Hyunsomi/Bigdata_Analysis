{
 "cells": [
  {
   "cell_type": "markdown",
   "metadata": {},
   "source": [
    "# 제목 1"
   ]
  },
  {
   "cell_type": "markdown",
   "metadata": {},
   "source": [
    "## 제목 2 "
   ]
  },
  {
   "cell_type": "code",
   "execution_count": 2,
   "metadata": {},
   "outputs": [
    {
     "name": "stdout",
     "output_type": "stream",
     "text": [
      "hello\n"
     ]
    }
   ],
   "source": [
    "print(\"hello\")"
   ]
  },
  {
   "cell_type": "code",
   "execution_count": 4,
   "metadata": {},
   "outputs": [],
   "source": [
    "import pyspark"
   ]
  },
  {
   "cell_type": "code",
   "execution_count": 5,
   "metadata": {},
   "outputs": [
    {
     "name": "stdout",
     "output_type": "stream",
     "text": [
      "3.0.0\n"
     ]
    }
   ],
   "source": [
    "print (pyspark.__version__)"
   ]
  },
  {
   "cell_type": "code",
   "execution_count": null,
   "metadata": {},
   "outputs": [],
   "source": [
    "C:\\Users\\hhsm>pyspark\n",
    "Python 3.8.2 (tags/v3.8.2:7b3ab59, Feb 25 2020, 23:03:10) [MSC v.1916 64 bit (AMD64)] on win32\n",
    "Type \"help\", \"copyright\", \"credits\" or \"license\" for more information.\n",
    "20/09/03 17:00:08 ERROR Shell: Failed to locate the winutils binary in the hadoop binary path\n",
    "java.io.IOException: Could not locate executable null\\bin\\winutils.exe in the Hadoop binaries.\n",
    "        at org.apache.hadoop.util.Shell.getQualifiedBinPath(Shell.java:382)\n",
    "        at org.apache.hadoop.util.Shell.getWinUtilsPath(Shell.java:397)\n",
    "        at org.apache.hadoop.util.Shell.<clinit>(Shell.java:390)\n",
    "        at org.apache.hadoop.util.StringUtils.<clinit>(StringUtils.java:80)\n",
    "        at org.apache.hadoop.security.SecurityUtil.getAuthenticationMethod(SecurityUtil.java:611)\n",
    "        at org.apache.hadoop.security.UserGroupInformation.initialize(UserGroupInformation.java:274)\n",
    "        at org.apache.hadoop.security.UserGroupInformation.ensureInitialized(UserGroupInformation.java:262)\n",
    "        at org.apache.hadoop.security.UserGroupInformation.loginUserFromSubject(UserGroupInformation.java:807)\n",
    "        at org.apache.hadoop.security.UserGroupInformation.getLoginUser(UserGroupInformation.java:777)\n",
    "        at org.apache.hadoop.security.UserGroupInformation.getCurrentUser(UserGroupInformation.java:650)\n",
    "        at org.apache.spark.util.Utils$.$anonfun$getCurrentUserName$1(Utils.scala:2412)\n",
    "        at scala.Option.getOrElse(Option.scala:189)\n",
    "        at org.apache.spark.util.Utils$.getCurrentUserName(Utils.scala:2412)\n",
    "        at org.apache.spark.SecurityManager.<init>(SecurityManager.scala:79)\n",
    "        at org.apache.spark.deploy.SparkSubmit.secMgr$lzycompute$1(SparkSubmit.scala:368)\n",
    "        at org.apache.spark.deploy.SparkSubmit.secMgr$1(SparkSubmit.scala:368)\n",
    "        at org.apache.spark.deploy.SparkSubmit.$anonfun$prepareSubmitEnvironment$8(SparkSubmit.scala:376)\n",
    "        at scala.Option.map(Option.scala:230)\n",
    "        at org.apache.spark.deploy.SparkSubmit.prepareSubmitEnvironment(SparkSubmit.scala:376)\n",
    "        at org.apache.spark.deploy.SparkSubmit.org$apache$spark$deploy$SparkSubmit$$runMain(SparkSubmit.scala:871)\n",
    "        at org.apache.spark.deploy.SparkSubmit.doRunMain$1(SparkSubmit.scala:180)\n",
    "        at org.apache.spark.deploy.SparkSubmit.submit(SparkSubmit.scala:203)\n",
    "        at org.apache.spark.deploy.SparkSubmit.doSubmit(SparkSubmit.scala:90)\n",
    "        at org.apache.spark.deploy.SparkSubmit$$anon$2.doSubmit(SparkSubmit.scala:1007)\n",
    "        at org.apache.spark.deploy.SparkSubmit$.main(SparkSubmit.scala:1016)\n",
    "        at org.apache.spark.deploy.SparkSubmit.main(SparkSubmit.scala)\n",
    "20/09/03 17:00:08 WARN NativeCodeLoader: Unable to load native-hadoop library for your platform... using builtin-java classes where applicable\n",
    "Using Spark's default log4j profile: org/apache/spark/log4j-defaults.properties\n",
    "Setting default log level to \"WARN\".\n",
    "To adjust logging level use sc.setLogLevel(newLevel). For SparkR, use setLogLevel(newLevel).\n",
    "Welcome to\n",
    "      ____              __\n",
    "     / __/__  ___ _____/ /__\n",
    "    _\\ \\/ _ \\/ _ `/ __/  '_/\n",
    "   /__ / .__/\\_,_/_/ /_/\\_\\   version 3.0.0\n",
    "      /_/\n",
    "\n",
    "Using Python version 3.8.2 (tags/v3.8.2:7b3ab59, Feb 25 2020 23:03:10)\n",
    "SparkSession available as 'spark'.\n",
    ">>> 20/09/03 17:00:22 WARN ProcfsMetricsGetter: Exception when trying to compute pagesize, as a result reporting of ProcessTree metrics is stopped"
   ]
  },
  {
   "cell_type": "code",
   "execution_count": 9,
   "metadata": {},
   "outputs": [],
   "source": [
    "myConf=pyspark.SparkConf()"
   ]
  },
  {
   "cell_type": "code",
   "execution_count": 11,
   "metadata": {},
   "outputs": [],
   "source": [
    "spark = pyspark.sql.SparkSession.builder\\\n",
    "    .master(\"local\")\\\n",
    "    .appName(\"myApp\")\\\n",
    "    .config(conf=myConf)\\\n",
    "    .getOrCreate()"
   ]
  },
  {
   "cell_type": "code",
   "execution_count": 12,
   "metadata": {},
   "outputs": [
    {
     "data": {
      "text/plain": [
       "'3.0.0'"
      ]
     },
     "execution_count": 12,
     "metadata": {},
     "output_type": "execute_result"
    }
   ],
   "source": [
    "spark.version"
   ]
  },
  {
   "cell_type": "code",
   "execution_count": null,
   "metadata": {},
   "outputs": [],
   "source": []
  }
 ],
 "metadata": {
  "kernelspec": {
   "display_name": "Python 3",
   "language": "python",
   "name": "python3"
  },
  "language_info": {
   "codemirror_mode": {
    "name": "ipython",
    "version": 3
   },
   "file_extension": ".py",
   "mimetype": "text/x-python",
   "name": "python",
   "nbconvert_exporter": "python",
   "pygments_lexer": "ipython3",
   "version": "3.8.2"
  }
 },
 "nbformat": 4,
 "nbformat_minor": 4
}
